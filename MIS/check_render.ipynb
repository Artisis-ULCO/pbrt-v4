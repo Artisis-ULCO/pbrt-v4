{
 "cells": [
  {
   "cell_type": "code",
   "execution_count": 129,
   "id": "d64fc628-e492-4fd0-8d15-5b585f7b0606",
   "metadata": {},
   "outputs": [],
   "source": [
    "import math"
   ]
  },
  {
   "cell_type": "code",
   "execution_count": 130,
   "id": "1bf019bb-d921-4e7b-9a59-09c694522b52",
   "metadata": {},
   "outputs": [],
   "source": [
    "p1_list = [0.291072, 0.103156, 0.291821, 0.099453, 0.161985, 0.292655, 0.0974263, 0.290703, 0.15992, 0.291543]\n",
    "p2_list = [413.821, 273.389, 414.264, 273.077, 27.1208, 413.086, 273.203, 413.388, 27.0843, 414.109]\n",
    "l_list = [0.223051, 0.119533, 0.223569, 0.114245, 0.2085, 0.276989, 0.117538, 0.223506, 0.231728, 0.225797]"
   ]
  },
  {
   "cell_type": "code",
   "execution_count": 131,
   "id": "e7727e0d-8add-4ebb-b737-434c74baef60",
   "metadata": {},
   "outputs": [],
   "source": [
    "gamma = 1\n",
    "alpha = 0.5\n",
    "NSPP = 10"
   ]
  },
  {
   "cell_type": "code",
   "execution_count": 132,
   "id": "3ee36c57-395c-46d4-b98b-0d713ec9a3e9",
   "metadata": {},
   "outputs": [],
   "source": [
    "def pAlpha(p1, p2):\n",
    "    return alpha * p1 + (1 - alpha) * p2"
   ]
  },
  {
   "cell_type": "code",
   "execution_count": 133,
   "id": "b28f746f-07ab-40f5-b079-949b25ae3e49",
   "metadata": {},
   "outputs": [],
   "source": [
    "def xi(l, p1, p2):\n",
    "    return ((l ** gamma) / (pAlpha(p1, p2) ** (gamma + 1))) * (p1 - p2)"
   ]
  },
  {
   "cell_type": "code",
   "execution_count": 134,
   "id": "e233f108-e411-4d78-b865-a5fa23691143",
   "metadata": {},
   "outputs": [],
   "source": [
    "def xiPrime(l, p1, p2):\n",
    "    return ((l ** gamma) / (pAlpha(p1, p2) ** (gamma + 2))) * ((p1 - p2) ** 2)"
   ]
  },
  {
   "cell_type": "code",
   "execution_count": 140,
   "id": "98633d61-b510-45dd-813f-2c5924e8b6c4",
   "metadata": {},
   "outputs": [],
   "source": [
    "xiSum = 0\n",
    "xiPrimeSum = 0\n",
    "\n",
    "for i in range(len(p1_list)):\n",
    "    xiSum += xi(l_list[i], p1_list[i], p2_list[i])\n",
    "    xiPrimeSum += xiPrime(l_list[i], p1_list[i], p2_list[i])"
   ]
  },
  {
   "cell_type": "code",
   "execution_count": 141,
   "id": "dd619aec-13e7-41fa-ba7c-c691965171d3",
   "metadata": {},
   "outputs": [],
   "source": [
    "xiAlpha = xiSum / NSPP\n",
    "xiPrimeAlpha = xiPrimeSum * (-gamma / NSPP)"
   ]
  },
  {
   "cell_type": "code",
   "execution_count": 142,
   "id": "872427a2-8312-484a-94ec-6f3bea37cd24",
   "metadata": {},
   "outputs": [
    {
     "name": "stdout",
     "output_type": "stream",
     "text": [
      "xiAlpha: -0.008028288804432274\n",
      "xiPrimeAlpha: -0.015901956426536835\n"
     ]
    }
   ],
   "source": [
    "print(f'xiAlpha: {xiAlpha}')\n",
    "print(f'xiPrimeAlpha: {xiPrimeAlpha}')"
   ]
  },
  {
   "cell_type": "code",
   "execution_count": 143,
   "id": "cf3f4af1-1975-4e1a-97ad-8844fefa769a",
   "metadata": {},
   "outputs": [],
   "source": [
    "newAlpha = alpha - (xiAlpha / xiPrimeAlpha)"
   ]
  },
  {
   "cell_type": "code",
   "execution_count": 144,
   "id": "d98f0792-122c-43c2-9d10-203da7fbd6be",
   "metadata": {},
   "outputs": [
    {
     "name": "stdout",
     "output_type": "stream",
     "text": [
      "newAlpha: -0.0048617031194251314\n"
     ]
    }
   ],
   "source": [
    "print(f'newAlpha: {newAlpha}')"
   ]
  }
 ],
 "metadata": {
  "kernelspec": {
   "display_name": "Python 3 (ipykernel)",
   "language": "python",
   "name": "python3"
  },
  "language_info": {
   "codemirror_mode": {
    "name": "ipython",
    "version": 3
   },
   "file_extension": ".py",
   "mimetype": "text/x-python",
   "name": "python",
   "nbconvert_exporter": "python",
   "pygments_lexer": "ipython3",
   "version": "3.8.0"
  }
 },
 "nbformat": 4,
 "nbformat_minor": 5
}
