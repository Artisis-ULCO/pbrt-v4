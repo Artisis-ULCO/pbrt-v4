{
 "cells": [
  {
   "cell_type": "markdown",
   "id": "b91b8238-3bfa-4150-ba92-ac62cb2bf8e5",
   "metadata": {
    "tags": []
   },
   "source": [
    "# MIS Divergence"
   ]
  },
  {
   "cell_type": "code",
   "execution_count": 1,
   "id": "7606b809-e7ed-4bd2-aa84-02e4a1043de9",
   "metadata": {},
   "outputs": [],
   "source": [
    "import numpy as np\n",
    "import math\n",
    "from scipy import integrate, stats\n",
    "import matplotlib.pyplot as plt"
   ]
  },
  {
   "cell_type": "code",
   "execution_count": 2,
   "id": "e3b655ab-8a9b-49ef-b3dd-8633c53c7e1c",
   "metadata": {},
   "outputs": [],
   "source": [
    "plt.rcParams.update({\n",
    "    \"text.usetex\": True,\n",
    "    \"font.family\": \"amsmath\",\n",
    "    \"font.sans-serif\": \"Helvetica\",\n",
    "})"
   ]
  },
  {
   "cell_type": "markdown",
   "id": "5e3f9b6b-9fa0-4483-bafe-ffeb720a9ec4",
   "metadata": {},
   "source": [
    "## Generic part"
   ]
  },
  {
   "cell_type": "code",
   "execution_count": 3,
   "id": "8d921825-70fe-4984-9612-01e07a1d6a4e",
   "metadata": {},
   "outputs": [],
   "source": [
    "# balance heuristic divergence\n",
    "def bh_div(alpha, p1, p2):\n",
    "    return alpha * p1 + (1 - alpha) * p2\n",
    "\n",
    "def bh_div_weight(alpha, p1, p2):\n",
    "    return (alpha * p1) / (alpha * p1 + (1 - alpha) * p2)"
   ]
  },
  {
   "cell_type": "code",
   "execution_count": 4,
   "id": "ba2b3080-f022-4f62-8fc7-dc21fe17d04b",
   "metadata": {},
   "outputs": [],
   "source": [
    "# computed variance for specific method\n",
    "# TODO : check variance V[F] formula\n",
    "def var_method(samples, fpdfs, gpdfs, alpha):\n",
    "    \n",
    "    v_sum_squared = 0\n",
    "    v_sum = 0\n",
    "    \n",
    "    for i, spp in enumerate(samples):\n",
    "        \n",
    "        v_sum_squared += (spp ** 2) / (bh_div(alpha, fpdfs[i], gpdfs[i]) ** 2)\n",
    "        v_sum += (spp / bh_div(alpha, fpdfs[i], gpdfs[i]))\n",
    "        \n",
    "    v_sum_squared /= len(samples)\n",
    "    v_sum /= len(samples)\n",
    "    \n",
    "    return alpha * (v_sum_squared - (v_sum ** 2))\n",
    "\n",
    "def sample(f, sampling1, sampling2, pdf_f1, pdf_f2, alpha):\n",
    "    \n",
    "    f_sum = 0\n",
    "    \n",
    "    # sample using first method\n",
    "    x1 = sampling1()\n",
    "    \n",
    "    fpdf_1 = pdf_f1(x1)\n",
    "    gpdf_1 = pdf_f2(x1)\n",
    "    \n",
    "    f1 = f(x1)\n",
    "    \n",
    "    # use of MIS weight for sampling1 function\n",
    "    f_sum += f1 * bh_div_weight(alpha, fpdf_1, gpdf_1)\n",
    "    \n",
    "    # sample using second method\n",
    "    x2 = sampling2()\n",
    "    \n",
    "    # TODO: check reverse PDFs or not?\n",
    "    fpdf_2 = pdf_f2(x2)\n",
    "    gpdf_2 = pdf_f1(x2)\n",
    "    \n",
    "    f2 = f(x2)\n",
    "    \n",
    "    # use of MIS weight for sampling2 function\n",
    "    f_sum += f2 * bh_div_weight(1 - alpha, fpdf_2, gpdf_2)\n",
    "    \n",
    "    # final contribution is f_sum\n",
    "    return f_sum, f1, f2, fpdf_1, gpdf_1, fpdf_2, gpdf_2 "
   ]
  },
  {
   "cell_type": "code",
   "execution_count": 5,
   "id": "795cd1aa-9784-4b85-9200-ee7e297b085c",
   "metadata": {},
   "outputs": [],
   "source": [
    "def sampling_checker(sampling_f, begin, end):\n",
    "    \n",
    "    x = sampling_f()\n",
    "    return x if x >= begin and x < end else sampling_checker(sampling_f, begin, end)"
   ]
  },
  {
   "cell_type": "code",
   "execution_count": 6,
   "id": "93e65a02-bfd2-46b1-adf8-3ca4f2c8d7df",
   "metadata": {},
   "outputs": [],
   "source": [
    "from sklearn.neighbors import KernelDensity\n",
    "\n",
    "def compute_pdf(nsamples, interval, f, nbins=1000):\n",
    "\n",
    "    nsamples += 1\n",
    "    begin, end = interval\n",
    "    samples = np.random.uniform(begin, end, nsamples)\n",
    "    y = f(samples)\n",
    "    counts, bin_edges = np.histogram(y, bins=nbins, density=True)\n",
    "    \n",
    "    X = np.concatenate(\n",
    "        (samples, y)\n",
    "    )[:, np.newaxis]\n",
    "    \n",
    "    X_plot = np.linspace(begin, end, nsamples)[:, np.newaxis]\n",
    "    kde = KernelDensity(kernel='tophat', bandwidth=0.2).fit(X)\n",
    "    log_dens = kde.score_samples(X_plot)\n",
    "    \n",
    "    #fig, ax = plt.subplots(1, 1, sharex=True, sharey=True)\n",
    "    \n",
    "    #print(X_plot[:, 0].shape, log_dens.shape)\n",
    "    \n",
    "    #plt.plot(X_plot[:, 0], np.exp(log_dens))\n",
    "    #plt.fill_between(X_plot[:, 0], np.exp(log_dens), alpha=0.2)\n",
    "    #plt.title(\"Gaussian Kernel Density\")\n",
    "\n",
    "    #print(counts.sum())\n",
    "    #print(counts / counts.sum())\n",
    "    #print(bin_edges)"
   ]
  },
  {
   "cell_type": "code",
   "execution_count": 7,
   "id": "80eb2f38-230c-4da4-9416-42f054a7a274",
   "metadata": {},
   "outputs": [
    {
     "data": {
      "text/plain": [
       "0.6195556640373205"
      ]
     },
     "execution_count": 7,
     "metadata": {},
     "output_type": "execute_result"
    }
   ],
   "source": [
    "def get_discrete_pdf(f1, interval, nsamples, nbins):\n",
    "    begin, end = interval\n",
    "    samples = np.random.uniform(begin, end, nsamples)\n",
    "    y = f1(samples)\n",
    "    counts, bin_edges = np.histogram(y, bins=nbins, density=True)\n",
    "    # plt.hist(bin_edges[:-1], bin_edges, weights=counts)\n",
    "    def _get_pdf(sample):\n",
    "        index = np.argmin(np.abs(bin_edges[1:] - sample))\n",
    "        return counts[index - 1]\n",
    "\n",
    "    return _get_pdf\n",
    "\n",
    "pdf_f = get_discrete_pdf(lambda x: 2 - x, [0.01, math.pi / 2], 10000000, 10000)\n",
    "pdf_f(0.4)"
   ]
  },
  {
   "cell_type": "markdown",
   "id": "48f6e85d-eb5d-4030-a627-c029b42e8f9a",
   "metadata": {},
   "source": [
    "### Example 1"
   ]
  },
  {
   "cell_type": "code",
   "execution_count": 8,
   "id": "9dd38b48-ee9b-4466-90e1-88209efb6e4a",
   "metadata": {},
   "outputs": [],
   "source": [
    "def example_1(x):\n",
    "    return math.sqrt(x) + math.sin(x)"
   ]
  },
  {
   "cell_type": "code",
   "execution_count": 9,
   "id": "195bd8fd-9aba-4cd3-9db0-e29a83a24e7e",
   "metadata": {},
   "outputs": [
    {
     "name": "stdout",
     "output_type": "stream",
     "text": [
      "Expected integral is: 25.306521511962696\n"
     ]
    }
   ],
   "source": [
    "# get example1 integral from [0.01, 3.5 * \\pi] of PDFs\n",
    "I = integrate.quad(example_1, 0.01, 3.5 * math.pi) \n",
    "print(f\"Expected integral is: {I[0]}\")"
   ]
  },
  {
   "cell_type": "code",
   "execution_count": 10,
   "id": "ef38bc6c-3dae-4f95-b87a-f6a19b9fbdd1",
   "metadata": {},
   "outputs": [
    {
     "data": {
      "text/plain": [
       "<matplotlib.legend.Legend at 0x7f2e005fcb20>"
      ]
     },
     "execution_count": 10,
     "metadata": {},
     "output_type": "execute_result"
    },
    {
     "data": {
      "image/png": "[encoded data removed]",
      "text/plain": [
       "<Figure size 640x480 with 1 Axes>"
      ]
     },
     "metadata": {},
     "output_type": "display_data"
    }
   ],
   "source": [
    "n_spp = 1001 # keep the closure interval\n",
    "samples = np.linspace(0.01, 3.5 * math.pi, n_spp)\n",
    "x = np.arange(n_spp)\n",
    "\n",
    "f1_pdfs = stats.norm.pdf(samples, 2, 1)\n",
    "f2_pdfs = stats.norm.pdf(samples, 8, 2)\n",
    "example_samples = np.array([ example_1(spp) for spp in samples ])\n",
    "mu_pdfs = example_samples / I[0]\n",
    "\n",
    "plt.plot(f1_pdfs, label=r\"$\\mathcal{N}(2, 1)$\")\n",
    "plt.fill_between(x, f1_pdfs, alpha=0.2)\n",
    "plt.plot(f2_pdfs, label=r\"$\\mathcal{N}(8, 2)$\")\n",
    "plt.fill_between(x, f2_pdfs, alpha=0.2)\n",
    "plt.plot(mu_pdfs, label=r\"$f$\")\n",
    "plt.fill_between(x, mu_pdfs, alpha=0.2)\n",
    "\n",
    "frequency=250\n",
    "plt.xticks(x[::frequency], [ f\"{xi:.0f}\" for xi in samples[::frequency]] )\n",
    "plt.legend()"
   ]
  },
  {
   "cell_type": "markdown",
   "id": "9440494c-346b-4da7-bf39-603eac2c976a",
   "metadata": {},
   "source": [
    "### Example 2"
   ]
  },
  {
   "cell_type": "code",
   "execution_count": 11,
   "id": "3e984dbc-9744-463d-a4dc-3ad2bd43591c",
   "metadata": {},
   "outputs": [],
   "source": [
    "def example_2(x):\n",
    "    return stats.norm.pdf(x, -1.5, 1) + 2 * stats.norm.pdf(x, 1.5, 0.75)"
   ]
  },
  {
   "cell_type": "code",
   "execution_count": 12,
   "id": "6db9d49b-75bd-47db-96f8-9401d523db45",
   "metadata": {},
   "outputs": [
    {
     "name": "stdout",
     "output_type": "stream",
     "text": [
      "Expected integral is: 2.9929321950180436\n"
     ]
    }
   ],
   "source": [
    "# get example2 intergal from [-4, 4] of PDFs\n",
    "I = integrate.quad(example_2, -4, 4) \n",
    "print(f\"Expected integral is: {I[0]}\")"
   ]
  },
  {
   "cell_type": "code",
   "execution_count": 13,
   "id": "ac7c8be0-8f86-4cc9-a4e7-0fc144358a7f",
   "metadata": {},
   "outputs": [
    {
     "data": {
      "text/plain": [
       "<matplotlib.legend.Legend at 0x7f2e021f1880>"
      ]
     },
     "execution_count": 13,
     "metadata": {},
     "output_type": "execute_result"
    },
    {
     "data": {
      "image/png": "[encoded data removed]",
      "text/plain": [
       "<Figure size 640x480 with 1 Axes>"
      ]
     },
     "metadata": {},
     "output_type": "display_data"
    }
   ],
   "source": [
    "n_spp = 1001 # keep the closure interval\n",
    "samples = np.linspace(-4, 4.01, n_spp)\n",
    "x = np.arange(n_spp)\n",
    "\n",
    "f1_pdfs = stats.norm.pdf(samples, -1.5, 1)\n",
    "f2_pdfs = stats.norm.pdf(samples, 1.5, 0.75)\n",
    "example_samples = np.array([ example_2(spp) for spp in samples ])\n",
    "mu_pdfs = example_samples / I[0]\n",
    "\n",
    "plt.plot(f1_pdfs, label=r\"$\\mathcal{N}(-1.5, 1)$\")\n",
    "plt.fill_between(x, f1_pdfs, alpha=0.2)\n",
    "plt.plot(f2_pdfs, label=r\"$\\mathcal{N}(1.5, 0.75)$\")\n",
    "plt.fill_between(x, f2_pdfs, alpha=0.2)\n",
    "plt.plot(mu_pdfs, label=r\"$f$\")\n",
    "plt.fill_between(x, mu_pdfs, alpha=0.2)\n",
    "\n",
    "frequency = 250\n",
    "plt.xticks(x[::frequency], [ f\"{xi:.0f}\" for xi in samples[::frequency]] )\n",
    "plt.legend()"
   ]
  },
  {
   "cell_type": "markdown",
   "id": "fb038af1-9511-45d5-a0da-8dd4daf73782",
   "metadata": {},
   "source": [
    "### Example 3"
   ]
  },
  {
   "cell_type": "code",
   "execution_count": 14,
   "id": "1df3c309-065a-411f-8de3-f799f16366ba",
   "metadata": {},
   "outputs": [],
   "source": [
    "def example_3(x):\n",
    "    return math.sqrt(x) + math.sin(x)"
   ]
  },
  {
   "cell_type": "code",
   "execution_count": 15,
   "id": "6c372d7a-a96f-479e-aee7-7f019544e596",
   "metadata": {},
   "outputs": [
    {
     "name": "stdout",
     "output_type": "stream",
     "text": [
      "Expected integral is: 2.311750829226866\n"
     ]
    }
   ],
   "source": [
    "# get example3 intergal from [0.01, \\pi / 2] of PDFs\n",
    "I = integrate.quad(example_3, 0.01, math.pi / 2) \n",
    "print(f\"Expected integral is: {I[0]}\")"
   ]
  },
  {
   "cell_type": "code",
   "execution_count": 16,
   "id": "d127a739-a280-47aa-8838-1e3342e34845",
   "metadata": {},
   "outputs": [
    {
     "data": {
      "text/plain": [
       "<matplotlib.legend.Legend at 0x7f2e788fde20>"
      ]
     },
     "execution_count": 16,
     "metadata": {},
     "output_type": "execute_result"
    },
    {
     "data": {
      "image/png": "[encoded data removed]",
      "text/plain": [
       "<Figure size 640x480 with 1 Axes>"
      ]
     },
     "metadata": {},
     "output_type": "display_data"
    }
   ],
   "source": [
    "n_spp = 1001 # keep the closure interval\n",
    "samples = np.linspace(0.01, math.pi / 2, n_spp)\n",
    "x = np.arange(n_spp)\n",
    "\n",
    "#f1_pdf_function = get_discrete_pdf(lambda x: 2 - x, [0.01, math.pi / 2], 1000000, 10000)\n",
    "#f2_pdf_function = get_discrete_pdf(lambda x: np.sin(x) ** 2, [0.01, math.pi / 2], 1000000, 10000)\n",
    "#f1_pdfs = np.array([ f1_pdf_function(sample) for sample in samples ]) / I[0]# 2 - x\n",
    "#f2_pdfs = np.array([ f2_pdf_function(sample) for sample in samples ]) / I[0] # sin²(x)\n",
    "\n",
    "f1_pdfs = 2 - samples / I[0]\n",
    "f2_pdfs = (np.sin(samples) ** 2) / I[0]\n",
    "example_samples = np.array([ example_3(spp) for spp in samples ])\n",
    "mu_pdfs = example_samples / I[0]\n",
    "\n",
    "plt.plot(f1_pdfs, label=r\"$\\mathcal{N}(-1.5, 1)$\")\n",
    "plt.fill_between(x, f1_pdfs, alpha=0.2)\n",
    "plt.plot(f2_pdfs, label=r\"$\\mathcal{N}(1.5, 0.75)$\")\n",
    "plt.fill_between(x, f2_pdfs, alpha=0.2)\n",
    "plt.plot(mu_pdfs, label=r\"$f$\")\n",
    "\n",
    "plt.fill_between(x, mu_pdfs, alpha=0.2)\n",
    "\n",
    "frequency=250\n",
    "plt.xticks(x[::frequency], [ f\"{xi:.1f}\" for xi in samples[::frequency]] )\n",
    "plt.legend()"
   ]
  },
  {
   "cell_type": "code",
   "execution_count": 17,
   "id": "9391b866-2dd8-4436-9663-5aceb4cb5222",
   "metadata": {},
   "outputs": [],
   "source": [
    "f1_pdfs = compute_pdf(10000, [0.01, math.pi / 2], lambda x: 2 - x, 10)"
   ]
  },
  {
   "cell_type": "markdown",
   "id": "95673513-35f9-458e-a546-763e1cb2557e",
   "metadata": {},
   "source": [
    "### Example 4"
   ]
  },
  {
   "cell_type": "code",
   "execution_count": 18,
   "id": "5e3a8b1b-a39c-42a7-8d95-4659c7e9b618",
   "metadata": {},
   "outputs": [],
   "source": [
    "def example_4(x):\n",
    "    return stats.norm.pdf(x, 1.8, 1) + 2 * stats.norm.pdf(x, 1.5, 0.75) + 3 * stats.norm.pdf(x, -0.5, 0.5)"
   ]
  },
  {
   "cell_type": "code",
   "execution_count": 19,
   "id": "04e93573-57f7-4ea9-8e6f-83bf9d1820ee",
   "metadata": {},
   "outputs": [
    {
     "name": "stdout",
     "output_type": "stream",
     "text": [
      "Expected integral is: 5.839428410622051\n"
     ]
    }
   ],
   "source": [
    "# get example3 intergal from [0.01, \\pi / 2] of PDFs\n",
    "I = integrate.quad(example_4, -3, 3) \n",
    "print(f\"Expected integral is: {I[0]}\")"
   ]
  },
  {
   "cell_type": "code",
   "execution_count": 20,
   "id": "b612a731-1edb-4c0b-9a14-e819053174d7",
   "metadata": {},
   "outputs": [
    {
     "data": {
      "text/plain": [
       "<matplotlib.legend.Legend at 0x7f2e7882f5b0>"
      ]
     },
     "execution_count": 20,
     "metadata": {},
     "output_type": "execute_result"
    },
    {
     "data": {
      "image/png": "[encoded data removed]",
      "text/plain": [
       "<Figure size 640x480 with 1 Axes>"
      ]
     },
     "metadata": {},
     "output_type": "display_data"
    }
   ],
   "source": [
    "n_spp = 1001 # keep the closure interval\n",
    "samples = np.linspace(-3, 3, n_spp)\n",
    "x = np.arange(n_spp)\n",
    "\n",
    "f1_pdfs = stats.norm.pdf(samples, -1.5, 1)\n",
    "f2_pdfs = stats.norm.pdf(samples, 1.5, 0.75)\n",
    "f3_pdfs = stats.norm.pdf(samples, -0.5, 1)\n",
    "example_samples = np.array([ example_4(spp) for spp in samples ])\n",
    "mu_pdfs = example_samples / I[0]\n",
    "\n",
    "plt.plot(f1_pdfs, label=r\"$\\mathcal{N}(-1.5, 1)$\")\n",
    "plt.fill_between(x, f1_pdfs, alpha=0.2)\n",
    "plt.plot(f2_pdfs, label=r\"$\\mathcal{N}(1.5, 0.75)$\")\n",
    "plt.fill_between(x, f2_pdfs, alpha=0.2)\n",
    "plt.plot(f3_pdfs, label=r\"$\\mathcal{N}(-0.5, 0.5)$\")\n",
    "plt.fill_between(x, f3_pdfs, alpha=0.2)\n",
    "plt.plot(mu_pdfs, label=r\"$f$\")\n",
    "plt.fill_between(x, mu_pdfs, alpha=0.2)\n",
    "\n",
    "frequency=250\n",
    "plt.xticks(x[::frequency], [ f\"{xi:.0f}\" for xi in samples[::frequency]] )\n",
    "plt.legend()"
   ]
  },
  {
   "cell_type": "markdown",
   "id": "784d04b6-0bf6-4f90-bf7f-63dc0bc26be5",
   "metadata": {
    "tags": []
   },
   "source": [
    "### Prepare MIS (equal sampling) for example 1"
   ]
  },
  {
   "cell_type": "code",
   "execution_count": 21,
   "id": "6c3ff987-03be-4c2e-b458-7dfae47d040e",
   "metadata": {},
   "outputs": [],
   "source": [
    "# use interval checker of integration\n",
    "f1 = lambda: sampling_checker((lambda: np.random.normal(2, 1)), 0.01, 3.5 * math.pi) \n",
    "f2 = lambda: sampling_checker((lambda: np.random.normal(8, 2)), 0.01, 3.5 * math.pi) \n",
    "pdf_f1 = lambda x: stats.norm.pdf(x, 2, 1)\n",
    "pdf_f2 = lambda x: stats.norm.pdf(x, 8, 2)\n",
    "alpha = 0.5"
   ]
  },
  {
   "cell_type": "code",
   "execution_count": 22,
   "id": "3429d13d-1913-4784-87b7-aa83510c154c",
   "metadata": {},
   "outputs": [],
   "source": [
    "s_list = []\n",
    "f1_list = []\n",
    "f2_list = []\n",
    "fpdf1_list = []\n",
    "gpdf1_list = []\n",
    "fpdf2_list = []\n",
    "gpdf2_list = []\n",
    "\n",
    "for i in range(10000):\n",
    "    \n",
    "    s, f1_s, f2_s, fpdf1, gpdf1, fpdf2, gpdf2 = sample(example_1, f1, f2, pdf_f1, pdf_f2, alpha)\n",
    "    \n",
    "    s_list.append(s)\n",
    "    f1_list.append(f1_s)\n",
    "    f2_list.append(f2_s)\n",
    "    fpdf1_list.append(fpdf1)\n",
    "    gpdf1_list.append(gpdf1)\n",
    "    fpdf2_list.append(fpdf2)\n",
    "    gpdf2_list.append(gpdf2)"
   ]
  },
  {
   "cell_type": "code",
   "execution_count": 23,
   "id": "9ccf50c4-5293-4092-aa74-7b1a98f203d7",
   "metadata": {},
   "outputs": [
    {
     "name": "stdout",
     "output_type": "stream",
     "text": [
      "26.62214762593331\n"
     ]
    }
   ],
   "source": [
    "VF_sum = 0\n",
    "\n",
    "VF_sum += var_method(f1_list, fpdf1_list, gpdf1_list, 0.5)\n",
    "VF_sum += var_method(f2_list, fpdf2_list, gpdf2_list, 0.5)\n",
    "print(VF_sum)"
   ]
  },
  {
   "cell_type": "markdown",
   "id": "21b4e995-b393-4185-be32-11a552ffb8ee",
   "metadata": {
    "tags": []
   },
   "source": [
    "### Prepare MIS (equal sampling) for example 2"
   ]
  },
  {
   "cell_type": "code",
   "execution_count": 24,
   "id": "7e0d412c-b79f-47c0-946e-ad352668a585",
   "metadata": {},
   "outputs": [],
   "source": [
    "f1 = lambda: np.random.normal(-1.5, 1)\n",
    "f2 = lambda: np.random.normal(1.5, 0.75)\n",
    "pdf_f1 = lambda x: stats.norm.pdf(x, -1.5, 1)\n",
    "pdf_f2 = lambda x: stats.norm.pdf(x, 1.5, 0.75)\n",
    "alpha = 0.5"
   ]
  },
  {
   "cell_type": "code",
   "execution_count": 25,
   "id": "c9470f24-80fc-40f2-9258-455da938cde8",
   "metadata": {},
   "outputs": [],
   "source": [
    "s_list = []\n",
    "f1_list = []\n",
    "f2_list = []\n",
    "fpdf1_list = []\n",
    "gpdf1_list = []\n",
    "fpdf2_list = []\n",
    "gpdf2_list = []\n",
    "\n",
    "for i in range(10000):\n",
    "    \n",
    "    s, f1_s, f2_s, fpdf1, gpdf1, fpdf2, gpdf2 = sample(example_2, f1, f2, pdf_f1, pdf_f2, alpha)\n",
    "    \n",
    "    s_list.append(s)\n",
    "    f1_list.append(f1_s)\n",
    "    f2_list.append(f2_s)\n",
    "    fpdf1_list.append(fpdf1)\n",
    "    gpdf1_list.append(gpdf1)\n",
    "    fpdf2_list.append(fpdf2)\n",
    "    gpdf2_list.append(gpdf2)"
   ]
  },
  {
   "cell_type": "code",
   "execution_count": 26,
   "id": "b8c1e653-94df-45c8-9aa8-d63e0b5602d3",
   "metadata": {},
   "outputs": [
    {
     "name": "stdout",
     "output_type": "stream",
     "text": [
      "0.11583959450431269\n"
     ]
    }
   ],
   "source": [
    "VF_sum = 0\n",
    "\n",
    "VF_sum += var_method(f1_list, fpdf1_list, gpdf1_list, 0.5)\n",
    "VF_sum += var_method(f2_list, fpdf2_list, gpdf2_list, 0.5)\n",
    "print(VF_sum)"
   ]
  },
  {
   "cell_type": "code",
   "execution_count": 27,
   "id": "495fa6bd-ff00-4d85-8f30-c52f0717b8a7",
   "metadata": {},
   "outputs": [],
   "source": [
    "# other links\n",
    "# https://github.com/MJeremy2017/machine-learning-algorithm-implemention/blob/master/ImportanceSampling/ImportanceSampling.ipynb"
   ]
  },
  {
   "cell_type": "markdown",
   "id": "0793a2af-ef94-4414-98b1-0a44fc4efaf2",
   "metadata": {},
   "source": [
    "### Try using divergences module"
   ]
  },
  {
   "cell_type": "code",
   "execution_count": 1,
   "id": "f92fccc2-3a6b-474d-892a-a94195209a5b",
   "metadata": {},
   "outputs": [],
   "source": [
    "from divergences.model import TsallisImportance\n",
    "import numpy as np\n",
    "from scipy import stats"
   ]
  },
  {
   "cell_type": "code",
   "execution_count": 2,
   "id": "20f83244-77d0-4929-a43e-e89830c1bbb9",
   "metadata": {},
   "outputs": [],
   "source": [
    "def example_2(x):\n",
    "    return stats.norm.pdf(x, -1.5, 1) + 2 * stats.norm.pdf(x, 1.5, 0.75)"
   ]
  },
  {
   "cell_type": "code",
   "execution_count": 3,
   "id": "072a20b8-df54-4fd9-98a0-d3bc19c25d82",
   "metadata": {},
   "outputs": [],
   "source": [
    "f1 = lambda: np.random.normal(-1.5, 1)\n",
    "f2 = lambda: np.random.normal(1.5, 0.75)\n",
    "pdf_f1 = lambda x: stats.norm.pdf(x, -1.5, 1)\n",
    "pdf_f2 = lambda x: stats.norm.pdf(x, 1.5, 0.75)\n",
    "alpha = 0.5"
   ]
  },
  {
   "cell_type": "code",
   "execution_count": 6,
   "id": "e89eb31d-29e0-4726-9026-6fe68c15ab72",
   "metadata": {},
   "outputs": [],
   "source": [
    "# using MIS expected 11.34\n",
    "div_model = TsallisImportance(example_2, [f1, f2], [pdf_f1, pdf_f2], (-4, 4))"
   ]
  },
  {
   "cell_type": "code",
   "execution_count": 7,
   "id": "313350a4-947a-4dd0-90af-605cfbfb7f94",
   "metadata": {},
   "outputs": [
    {
     "name": "stdout",
     "output_type": "stream",
     "text": [
      "[100 samples] variance: 26.8089\n",
      "Next update of alphas\n",
      "[2.220446049250313e-16, 0.9999999999999998]\n",
      "[200 samples] variance: 198.3261\n",
      "Next update of alphas\n",
      "[2.220446049250313e-16, 0.9999999999999998]\n",
      "[300 samples] variance: 353.1467\n",
      "Next update of alphas\n",
      "[2.220446049250313e-16, 0.9999999999999998]\n",
      "[400 samples] variance: 0.4127\n",
      "Next update of alphas\n",
      "[2.220446049250313e-16, 0.9999999999999998]\n",
      "[500 samples] variance: 379.9327\n",
      "Next update of alphas\n",
      "[2.220446049250313e-16, 0.9999999999999998]\n",
      "[600 samples] variance: 0.2822\n",
      "Next update of alphas\n",
      "[2.220446049250313e-16, 0.9999999999999998]\n",
      "[700 samples] variance: 523.3794\n",
      "Next update of alphas\n",
      "[2.220446049250313e-16, 0.9999999999999998]\n",
      "[800 samples] variance: 13.6749\n",
      "Next update of alphas\n",
      "[2.220446049250313e-16, 0.9999999999999998]\n",
      "[900 samples] variance: 116.1348\n",
      "Next update of alphas\n",
      "[2.220446049250313e-16, 0.9999999999999998]\n",
      "[1000 samples] variance: 71.1505\n",
      "Next update of alphas\n",
      "[2.220446049250313e-16, 0.9999999999999998]\n",
      "[1100 samples] variance: 4.4856\n",
      "Next update of alphas\n",
      "[2.220446049250313e-16, 0.9999999999999998]\n",
      "[1200 samples] variance: 8.5405\n",
      "Next update of alphas\n",
      "[2.220446049250313e-16, 0.9999999999999998]\n",
      "[1300 samples] variance: 1.7021\n",
      "Next update of alphas\n",
      "[2.220446049250313e-16, 0.9999999999999998]\n",
      "[1400 samples] variance: 84.2682\n",
      "Next update of alphas\n",
      "[2.220446049250313e-16, 0.9999999999999998]\n",
      "[1500 samples] variance: 25.7653\n",
      "Next update of alphas\n",
      "[2.220446049250313e-16, 0.9999999999999998]\n",
      "[1600 samples] variance: 808.3020\n",
      "Next update of alphas\n",
      "[2.220446049250313e-16, 0.9999999999999998]\n",
      "[1700 samples] variance: 8.3071\n",
      "Next update of alphas\n",
      "[2.220446049250313e-16, 0.9999999999999998]\n",
      "[1800 samples] variance: 7.2367\n",
      "Next update of alphas\n",
      "[2.220446049250313e-16, 0.9999999999999998]\n",
      "[1900 samples] variance: 0.1633\n",
      "Next update of alphas\n",
      "[2.220446049250313e-16, 0.9999999999999998]\n",
      "[2000 samples] variance: 112.5996\n",
      "Next update of alphas\n",
      "[2.220446049250313e-16, 0.9999999999999998]\n",
      "[2100 samples] variance: 10.9914\n",
      "Next update of alphas\n",
      "[2.220446049250313e-16, 0.9999999999999998]\n",
      "[2200 samples] variance: 20.2696\n",
      "Next update of alphas\n",
      "[2.220446049250313e-16, 0.9999999999999998]\n",
      "[2300 samples] variance: 37.1151\n",
      "Next update of alphas\n",
      "[2.220446049250313e-16, 0.9999999999999998]\n",
      "[2400 samples] variance: 126.3048\n",
      "Next update of alphas\n",
      "[2.220446049250313e-16, 0.9999999999999998]\n",
      "[2500 samples] variance: 1.0077\n",
      "Next update of alphas\n",
      "[2.220446049250313e-16, 0.9999999999999998]\n",
      "[2600 samples] variance: 29.7450\n",
      "Next update of alphas\n",
      "[2.220446049250313e-16, 0.9999999999999998]\n",
      "[2700 samples] variance: 2.4350\n",
      "Next update of alphas\n",
      "[2.220446049250313e-16, 0.9999999999999998]\n",
      "[2800 samples] variance: 0.4262\n",
      "Next update of alphas\n",
      "[2.220446049250313e-16, 0.9999999999999998]\n",
      "[2900 samples] variance: 14.0734\n",
      "Next update of alphas\n",
      "[2.220446049250313e-16, 0.9999999999999998]\n",
      "[3000 samples] variance: 35.6932\n",
      "Next update of alphas\n",
      "[2.220446049250313e-16, 0.9999999999999998]\n",
      "[3100 samples] variance: 0.8254\n",
      "Next update of alphas\n",
      "[2.220446049250313e-16, 0.9999999999999998]\n",
      "[3200 samples] variance: 27.5481\n",
      "Next update of alphas\n",
      "[2.220446049250313e-16, 0.9999999999999998]\n",
      "[3300 samples] variance: 14.7329\n",
      "Next update of alphas\n",
      "[2.220446049250313e-16, 0.9999999999999998]\n",
      "[3400 samples] variance: 3.9336\n",
      "Next update of alphas\n",
      "[2.220446049250313e-16, 0.9999999999999998]\n",
      "[3500 samples] variance: 616.8093\n",
      "Next update of alphas\n",
      "[2.220446049250313e-16, 0.9999999999999998]\n",
      "[3600 samples] variance: 2.9147\n",
      "Next update of alphas\n",
      "[2.220446049250313e-16, 0.9999999999999998]\n",
      "[3700 samples] variance: 15.7827\n",
      "Next update of alphas\n",
      "[2.220446049250313e-16, 0.9999999999999998]\n",
      "[3800 samples] variance: 165.0964\n",
      "Next update of alphas\n",
      "[2.220446049250313e-16, 0.9999999999999998]\n",
      "[3900 samples] variance: 702.1328\n",
      "Next update of alphas\n",
      "[2.220446049250313e-16, 0.9999999999999998]\n",
      "[4000 samples] variance: 15.1466\n",
      "Next update of alphas\n",
      "[2.220446049250313e-16, 0.9999999999999998]\n",
      "[4100 samples] variance: 7.5558\n",
      "Next update of alphas\n",
      "[2.220446049250313e-16, 0.9999999999999998]\n",
      "[4200 samples] variance: 4.5133\n",
      "Next update of alphas\n",
      "[2.220446049250313e-16, 0.9999999999999998]\n",
      "[4300 samples] variance: 1.4758\n",
      "Next update of alphas\n",
      "[2.220446049250313e-16, 0.9999999999999998]\n",
      "[4400 samples] variance: 6.5069\n",
      "Next update of alphas\n",
      "[2.220446049250313e-16, 0.9999999999999998]\n",
      "[4500 samples] variance: 80.4375\n",
      "Next update of alphas\n",
      "[2.220446049250313e-16, 0.9999999999999998]\n",
      "[4600 samples] variance: 60.9645\n",
      "Next update of alphas\n",
      "[2.220446049250313e-16, 0.9999999999999998]\n",
      "[4700 samples] variance: 26.6669\n",
      "Next update of alphas\n",
      "[2.220446049250313e-16, 0.9999999999999998]\n",
      "[4800 samples] variance: 67.1748\n",
      "Next update of alphas\n",
      "[2.220446049250313e-16, 0.9999999999999998]\n",
      "[4900 samples] variance: 43.1766\n",
      "Next update of alphas\n",
      "[2.220446049250313e-16, 0.9999999999999998]\n",
      "[5000 samples] variance: 14.3662\n",
      "Next update of alphas\n",
      "[2.220446049250313e-16, 0.9999999999999998]\n",
      "[5100 samples] variance: 191.5400\n",
      "Next update of alphas\n",
      "[2.220446049250313e-16, 0.9999999999999998]\n",
      "[5200 samples] variance: 15665.3025\n",
      "Next update of alphas\n",
      "[2.220446049250313e-16, 0.9999999999999998]\n",
      "[5300 samples] variance: 1.4110\n",
      "Next update of alphas\n",
      "[2.220446049250313e-16, 0.9999999999999998]\n",
      "[5400 samples] variance: 0.1238\n",
      "Next update of alphas\n",
      "[2.220446049250313e-16, 0.9999999999999998]\n",
      "[5500 samples] variance: 221.3843\n",
      "Next update of alphas\n",
      "[2.220446049250313e-16, 0.9999999999999998]\n",
      "[5600 samples] variance: 244.8137\n",
      "Next update of alphas\n",
      "[2.220446049250313e-16, 0.9999999999999998]\n",
      "[5700 samples] variance: 9.0460\n",
      "Next update of alphas\n",
      "[2.220446049250313e-16, 0.9999999999999998]\n",
      "[5800 samples] variance: 2.1917\n",
      "Next update of alphas\n",
      "[2.220446049250313e-16, 0.9999999999999998]\n",
      "[5900 samples] variance: 5.0133\n",
      "Next update of alphas\n",
      "[2.220446049250313e-16, 0.9999999999999998]\n",
      "[6000 samples] variance: 15.8177\n",
      "Next update of alphas\n",
      "[2.220446049250313e-16, 0.9999999999999998]\n",
      "[6100 samples] variance: 26.8558\n",
      "Next update of alphas\n",
      "[2.220446049250313e-16, 0.9999999999999998]\n",
      "[6200 samples] variance: 236.7647\n",
      "Next update of alphas\n",
      "[2.220446049250313e-16, 0.9999999999999998]\n",
      "[6300 samples] variance: 294.4530\n",
      "Next update of alphas\n",
      "[2.220446049250313e-16, 0.9999999999999998]\n",
      "[6400 samples] variance: 12.8667\n",
      "Next update of alphas\n",
      "[2.220446049250313e-16, 0.9999999999999998]\n",
      "[6500 samples] variance: 1.5254\n",
      "Next update of alphas\n",
      "[2.220446049250313e-16, 0.9999999999999998]\n",
      "[6600 samples] variance: 9.2207\n",
      "Next update of alphas\n",
      "[2.220446049250313e-16, 0.9999999999999998]\n",
      "[6700 samples] variance: 9.1294\n",
      "Next update of alphas\n",
      "[2.220446049250313e-16, 0.9999999999999998]\n",
      "[6800 samples] variance: 0.7999\n",
      "Next update of alphas\n",
      "[2.220446049250313e-16, 0.9999999999999998]\n",
      "[6900 samples] variance: 19.9224\n",
      "Next update of alphas\n",
      "[2.220446049250313e-16, 0.9999999999999998]\n",
      "[7000 samples] variance: 5.5244\n",
      "Next update of alphas\n",
      "[2.220446049250313e-16, 0.9999999999999998]\n",
      "[7100 samples] variance: 170.1419\n",
      "Next update of alphas\n",
      "[2.220446049250313e-16, 0.9999999999999998]\n",
      "[7200 samples] variance: 106.0698\n",
      "Next update of alphas\n",
      "[2.220446049250313e-16, 0.9999999999999998]\n",
      "[7300 samples] variance: 35.4542\n",
      "Next update of alphas\n",
      "[2.220446049250313e-16, 0.9999999999999998]\n",
      "[7400 samples] variance: 262.4083\n",
      "Next update of alphas\n",
      "[2.220446049250313e-16, 0.9999999999999998]\n",
      "[7500 samples] variance: 2.2715\n",
      "Next update of alphas\n",
      "[2.220446049250313e-16, 0.9999999999999998]\n",
      "[7600 samples] variance: 23.5593\n",
      "Next update of alphas\n",
      "[2.220446049250313e-16, 0.9999999999999998]\n",
      "[7700 samples] variance: 143.1130\n",
      "Next update of alphas\n",
      "[2.220446049250313e-16, 0.9999999999999998]\n",
      "[7800 samples] variance: 4951.3317\n",
      "Next update of alphas\n",
      "[2.220446049250313e-16, 0.9999999999999998]\n",
      "[7900 samples] variance: 73.1712\n",
      "Next update of alphas\n",
      "[2.220446049250313e-16, 0.9999999999999998]\n",
      "[8000 samples] variance: 376.9682\n",
      "Next update of alphas\n",
      "[2.220446049250313e-16, 0.9999999999999998]\n",
      "[8100 samples] variance: 439.6319\n",
      "Next update of alphas\n",
      "[2.220446049250313e-16, 0.9999999999999998]\n",
      "[8200 samples] variance: 124.9703\n",
      "Next update of alphas\n",
      "[2.220446049250313e-16, 0.9999999999999998]\n",
      "[8300 samples] variance: 8.6611\n",
      "Next update of alphas\n",
      "[2.220446049250313e-16, 0.9999999999999998]\n",
      "[8400 samples] variance: 7.2775\n",
      "Next update of alphas\n",
      "[2.220446049250313e-16, 0.9999999999999998]\n",
      "[8500 samples] variance: 20.2159\n",
      "Next update of alphas\n",
      "[2.220446049250313e-16, 0.9999999999999998]\n",
      "[8600 samples] variance: 3.3497\n",
      "Next update of alphas\n",
      "[2.220446049250313e-16, 0.9999999999999998]\n",
      "[8700 samples] variance: 127.0296\n",
      "Next update of alphas\n",
      "[2.220446049250313e-16, 0.9999999999999998]\n",
      "[8800 samples] variance: 346.3137\n",
      "Next update of alphas\n",
      "[2.220446049250313e-16, 0.9999999999999998]\n",
      "[8900 samples] variance: 705.4493\n",
      "Next update of alphas\n",
      "[2.220446049250313e-16, 0.9999999999999998]\n",
      "[9000 samples] variance: 0.2607\n",
      "Next update of alphas\n",
      "[2.220446049250313e-16, 0.9999999999999998]\n",
      "[9100 samples] variance: 144.0555\n",
      "Next update of alphas\n",
      "[2.220446049250313e-16, 0.9999999999999998]\n",
      "[9200 samples] variance: 172.1715\n",
      "Next update of alphas\n",
      "[2.220446049250313e-16, 0.9999999999999998]\n",
      "[9300 samples] variance: 17.8174\n",
      "Next update of alphas\n",
      "[2.220446049250313e-16, 0.9999999999999998]\n",
      "[9400 samples] variance: 503.4127\n",
      "Next update of alphas\n",
      "[2.220446049250313e-16, 0.9999999999999998]\n",
      "[9500 samples] variance: 20.6741\n",
      "Next update of alphas\n",
      "[2.220446049250313e-16, 0.9999999999999998]\n",
      "[9600 samples] variance: 12.1713\n",
      "Next update of alphas\n",
      "[2.220446049250313e-16, 0.9999999999999998]\n",
      "[9700 samples] variance: 0.2104\n",
      "Next update of alphas\n",
      "[2.220446049250313e-16, 0.9999999999999998]\n",
      "[9800 samples] variance: 30.3443\n",
      "Next update of alphas\n",
      "[2.220446049250313e-16, 0.9999999999999998]\n",
      "[9900 samples] variance: 192.9824\n",
      "Next update of alphas\n",
      "[2.220446049250313e-16, 0.9999999999999998]\n",
      "[10000 samples] variance: 13.6574\n"
     ]
    }
   ],
   "source": [
    "div_model.fit(samples=10000, batch=100)"
   ]
  }
 ],
 "metadata": {
  "kernelspec": {
   "display_name": "ia-venv",
   "language": "python",
   "name": "ia-venv"
  },
  "language_info": {
   "codemirror_mode": {
    "name": "ipython",
    "version": 3
   },
   "file_extension": ".py",
   "mimetype": "text/x-python",
   "name": "python",
   "nbconvert_exporter": "python",
   "pygments_lexer": "ipython3",
   "version": "3.8.0"
  }
 },
 "nbformat": 4,
 "nbformat_minor": 5
}
