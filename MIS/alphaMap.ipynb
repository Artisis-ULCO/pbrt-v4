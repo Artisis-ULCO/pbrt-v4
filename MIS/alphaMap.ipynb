{
 "cells": [
  {
   "cell_type": "markdown",
   "id": "4e67743d-0980-4c2f-9c62-2149dbc7d24c",
   "metadata": {
    "tags": []
   },
   "source": [
    "# MIS Divergence"
   ]
  },
  {
   "cell_type": "code",
   "execution_count": 1,
   "id": "b32f6eac-09d2-402b-8d1c-bc4020d3a08a",
   "metadata": {
    "tags": []
   },
   "outputs": [],
   "source": [
    "import numpy as np\n",
    "import os\n",
    "from skimage.metrics import mean_squared_error\n",
    "from PIL import Image\n",
    "import matplotlib.pyplot as plt"
   ]
  },
  {
   "cell_type": "code",
   "execution_count": 3,
   "id": "67d2b808-f232-4190-a2b3-36d405243b28",
   "metadata": {
    "tags": []
   },
   "outputs": [],
   "source": [
    "ref_image = np.array(Image.open(\"../build/MIS-Reference/mis/mis-S5000.png\")) # 1000 samples (PowerHeuristic)"
   ]
  },
  {
   "cell_type": "code",
   "execution_count": 4,
   "id": "28377b34-f4d2-4d64-8468-8c5b26329998",
   "metadata": {
    "tags": []
   },
   "outputs": [],
   "source": [
    "base_folder = \"../build\"\n",
    "figures_output = \"figures\"\n",
    "\n",
    "if not os.path.exists(figures_output):\n",
    "    os.makedirs(figures_output)"
   ]
  },
  {
   "cell_type": "code",
   "execution_count": 5,
   "id": "ae034818-1e56-487b-8706-242318d3c837",
   "metadata": {
    "tags": []
   },
   "outputs": [],
   "source": [
    "NSPP = 50\n",
    "folder_name = \"MIS-\"\n",
    "folder_list = [\"Reference\", \"Equal\", \"BRDF\", \"Light\", \"T0-01\", \"T0-5\", \"T1\", \"T1-5\", \"T2\"]\n",
    "label_list = [\"Reference\", \"Equal\", \"BRDF\", \"Light\", \"T=0.01\", \"T=0.5\", \"T=1\", \"T=1.5\", \"T=2\"]"
   ]
  },
  {
   "cell_type": "code",
   "execution_count": 6,
   "id": "00382f39-d819-44dc-9025-b587fd7177c4",
   "metadata": {
    "tags": []
   },
   "outputs": [],
   "source": [
    "def get_alpha_map(filename):\n",
    "    \n",
    "    map_data = []\n",
    "    with open(filename, 'r') as f:\n",
    "        for line in f.readlines():\n",
    "            map_data.append([ float(n) for n in line.replace(';\\n', '').split(';') ])\n",
    "        \n",
    "    return np.array(map_data)"
   ]
  },
  {
   "cell_type": "code",
   "execution_count": 7,
   "id": "efc02336-a562-44e1-bbab-66c8613915a2",
   "metadata": {
    "tags": []
   },
   "outputs": [],
   "source": [
    "def display_and_save(filename, label, np_image, alpha_map):\n",
    "    fig, (ax1, ax2) = plt.subplots(figsize=(10, 4), ncols=2, gridspec_kw={'width_ratios': [1.33, 1.67]})\n",
    "    plt.suptitle(label)\n",
    "    rmse = np.sqrt(mean_squared_error(np_image, ref_image))\n",
    "    ax1.imshow(np_image, clim=(0, 255))\n",
    "    ax1.get_xaxis().set_visible(False)\n",
    "    ax1.get_yaxis().set_visible(False)\n",
    "    ax1.set_title(f'RMSE: {rmse:.3f}')\n",
    "\n",
    "    pos_neg_clipped = ax2.imshow(alpha_map, cmap='RdBu', clim=(0, 1))\n",
    "    ax2.get_xaxis().set_visible(False)\n",
    "    ax2.get_yaxis().set_visible(False)\n",
    "    ax2.set_title('alpha-map')\n",
    "\n",
    "    # Add minorticks on the colorbar to make it easy to read the\n",
    "    # values off the colorbar.\n",
    "    cbar = fig.colorbar(pos_neg_clipped, ax=ax2, location='right', anchor=(0, 0.5), shrink=0.8)\n",
    "    fig.savefig(filename)\n",
    "    "
   ]
  },
  {
   "cell_type": "code",
   "execution_count": null,
   "id": "ecbb5260-bb43-435c-9192-41eba1d2062f",
   "metadata": {
    "tags": []
   },
   "outputs": [],
   "source": [
    "for i, elem in enumerate(folder_list):\n",
    "    folder = os.path.join(base_folder, folder_name + elem)\n",
    "    \n",
    "    if elem != 'Reference':\n",
    "        image_name = os.path.join(folder, 'mis', f'mis-S{NSPP}.png')\n",
    "        map_file_name = os.path.join(folder, 'mis', f'mis-S{NSPP}.map')\n",
    "    else:\n",
    "        image_name = os.path.join(folder, 'mis', f'mis-S5000.png')\n",
    "        map_file_name = os.path.join(folder, 'mis', f'mis-S5000.map')\n",
    "    \n",
    "    alpha_map = get_alpha_map(map_file_name)\n",
    "    np_image = np.array(Image.open(image_name))\n",
    "    _, mis_folder = os.path.split(folder)\n",
    "    display_and_save(os.path.join(figures_output, mis_folder + '.pdf'), label_list[i], np_image, alpha_map)"
   ]
  }
 ],
 "metadata": {
  "kernelspec": {
   "display_name": "Python 3 (ipykernel)",
   "language": "python",
   "name": "python3"
  },
  "language_info": {
   "codemirror_mode": {
    "name": "ipython",
    "version": 3
   },
   "file_extension": ".py",
   "mimetype": "text/x-python",
   "name": "python",
   "nbconvert_exporter": "python",
   "pygments_lexer": "ipython3",
   "version": "3.8.0"
  }
 },
 "nbformat": 4,
 "nbformat_minor": 5
}
